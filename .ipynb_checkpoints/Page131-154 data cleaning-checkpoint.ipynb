{
 "cells": [
  {
   "cell_type": "code",
   "execution_count": null,
   "metadata": {},
   "outputs": [],
   "source": [
    "import numpy as np\n",
    "import pandas as pd\n",
    "import reportlab\n",
    "import seaborn as sns\n",
    "\n",
    "from utils import*"
   ]
  },
  {
   "cell_type": "code",
   "execution_count": null,
   "metadata": {},
   "outputs": [],
   "source": [
    "df_ori = pd.read_csv('LLCP2018.csv.gz')\n",
    "df = df_ori.copy()"
   ]
  },
  {
   "cell_type": "markdown",
   "metadata": {},
   "source": [
    "# cleaning _MRACE1 Calculated multiracial race categorization"
   ]
  },
  {
   "cell_type": "code",
   "execution_count": null,
   "metadata": {},
   "outputs": [],
   "source": [
    "\n",
    "clean_steps_MRACE1 = [\n",
    "\n",
    "    (\n",
    "        lambda x: x == 77,\n",
    "        lambda x: np.nan,\n",
    "        '77 Do not know/ Not sure -> NA'\n",
    "    ),\n",
    "    \n",
    "    (\n",
    "        lambda x: x == 99,\n",
    "        lambda x: np.nan,\n",
    "        '99 Refused ->NA'\n",
    "    )\n",
    "\n",
    "]\n",
    "clean_and_report(\n",
    "    df_ori, '_MRACE1', clean_steps_MRACE1, # (optional) col_type='Continuous'\n",
    ")"
   ]
  },
  {
   "cell_type": "markdown",
   "metadata": {},
   "source": [
    "# cleaning _HISPANC : Hispanic, Latino/a, or Spanish origin calculated variable"
   ]
  },
  {
   "cell_type": "code",
   "execution_count": null,
   "metadata": {},
   "outputs": [],
   "source": [
    "\n",
    "clean_steps_HISPANC = [\n",
    " \n",
    "    (\n",
    "        lambda x: x == 9,\n",
    "        lambda x: np.nan,\n",
    "        '9 Refused, do not know or missing ->NA'\n",
    "    )\n",
    "   \n",
    "]\n",
    "clean_and_report(\n",
    "    df_ori, '_HISPANC', clean_steps_HISPANC, col_type='Continuous'\n",
    ")"
   ]
  },
  {
   "cell_type": "markdown",
   "metadata": {},
   "source": [
    "# cleaning _RACE Race/ethnicity categories"
   ]
  },
  {
   "cell_type": "code",
   "execution_count": null,
   "metadata": {},
   "outputs": [],
   "source": [
    "\n",
    "clean_steps_RACE = [\n",
    " \n",
    "    (\n",
    "        lambda x: x == 9,\n",
    "        lambda x: np.nan,\n",
    "        '9 Refused, do not know or missing ->NA'\n",
    "    )\n",
    "   \n",
    "]\n",
    "clean_and_report(\n",
    "    df_ori, '_RACE', clean_steps_RACE, col_type='Continuous'\n",
    ")"
   ]
  },
  {
   "cell_type": "markdown",
   "metadata": {},
   "source": [
    "# cleaning _RACEG21 White non-Hispanic race group"
   ]
  },
  {
   "cell_type": "code",
   "execution_count": null,
   "metadata": {},
   "outputs": [],
   "source": [
    "\n",
    "clean_steps_RACEG21 = [\n",
    " \n",
    "    (\n",
    "        lambda x: x == 9,\n",
    "        lambda x: np.nan,\n",
    "        '9 Refused, do not know or missing ->NA'\n",
    "    )\n",
    "   \n",
    "]\n",
    "clean_and_report(\n",
    "    df_ori, '_RACEG21', clean_steps_RACEG21, # (optional) col_type='Continuous'\n",
    ")"
   ]
  },
  {
   "cell_type": "markdown",
   "metadata": {},
   "source": [
    "# _RACEGR3 Five-level race/ethnicity category"
   ]
  },
  {
   "cell_type": "code",
   "execution_count": null,
   "metadata": {},
   "outputs": [],
   "source": [
    "\n",
    "clean_steps_RACEGR3 = [\n",
    " \n",
    "    (\n",
    "        lambda x: x == 9,\n",
    "        lambda x: np.nan,\n",
    "        '9 Refused, do not know or missing ->NA'\n",
    "    )\n",
    "   \n",
    "]\n",
    "clean_and_report(\n",
    "    df_ori, '_RACEGR3', clean_steps_RACEGR3, # (optional) col_type='Continuous'\n",
    ")"
   ]
  },
  {
   "cell_type": "markdown",
   "metadata": {},
   "source": [
    "# _RACE_G1 Race groups used for internet prevalence tables"
   ]
  },
  {
   "cell_type": "code",
   "execution_count": null,
   "metadata": {},
   "outputs": [],
   "source": [
    "clean_and_report(\n",
    "    df_ori, '_RACE_G1', [], col_type='Categorical', fig_size=(5, 8)\n",
    ")"
   ]
  },
  {
   "cell_type": "markdown",
   "metadata": {},
   "source": [
    "# cleaning _AGEG5YR : Fourteen-level age category"
   ]
  },
  {
   "cell_type": "code",
   "execution_count": null,
   "metadata": {},
   "outputs": [],
   "source": [
    "clean_steps_AGEG5YR = [\n",
    "    (\n",
    "        lambda x: x == 14,\n",
    "        lambda x: np.nan,\n",
    "        '14 Refused, do not know or missing ->NA'\n",
    "    )\n",
    "]\n",
    "\n",
    "clean_and_report(\n",
    "    df_ori, '_AGEG5YR', clean_steps_AGEG5YR, # (optional) col_type='Continuous'\n",
    ")"
   ]
  },
  {
   "cell_type": "markdown",
   "metadata": {},
   "source": [
    "# cleaning _AGE65YR"
   ]
  },
  {
   "cell_type": "code",
   "execution_count": null,
   "metadata": {},
   "outputs": [],
   "source": [
    "clean_steps_AGE65YR = [\n",
    "    (\n",
    "        lambda x: x == 3,\n",
    "        lambda x: np.nan,\n",
    "        '3 Refused, do not know or missing ->NA'\n",
    "    )\n",
    "]\n",
    "\n",
    "clean_and_report(\n",
    "    df_ori, '_AGE65YR', clean_steps_AGE65YR, col_type='Continuous'\n",
    ")"
   ]
  },
  {
   "cell_type": "markdown",
   "metadata": {},
   "source": [
    "# _AGE80"
   ]
  },
  {
   "cell_type": "code",
   "execution_count": null,
   "metadata": {},
   "outputs": [],
   "source": [
    "clean_and_report(\n",
    "    df_ori, '_AGE80',[], col_type='Categorical', fig_size = (5, 8)\n",
    ")"
   ]
  },
  {
   "cell_type": "markdown",
   "metadata": {},
   "source": [
    "# _AGE_G"
   ]
  },
  {
   "cell_type": "code",
   "execution_count": null,
   "metadata": {},
   "outputs": [],
   "source": [
    "clean_and_report(\n",
    "    df_ori, '_AGE_G',[], col_type='Categorical', fig_size = (5, 8)\n",
    ")"
   ]
  },
  {
   "cell_type": "markdown",
   "metadata": {},
   "source": [
    "# HTIN4"
   ]
  },
  {
   "cell_type": "code",
   "execution_count": null,
   "metadata": {},
   "outputs": [],
   "source": [
    "clean_and_report(\n",
    "    df_ori, 'HTIN4',[], col_type='Categorical', fig_size = (5, 8)\n",
    ")"
   ]
  },
  {
   "cell_type": "markdown",
   "metadata": {},
   "source": [
    "# HTM4"
   ]
  },
  {
   "cell_type": "code",
   "execution_count": null,
   "metadata": {},
   "outputs": [],
   "source": [
    "clean_and_report(\n",
    "    df_ori, 'HTM4',[], col_type='Categorical', fig_size = (5, 8)\n",
    ")"
   ]
  },
  {
   "cell_type": "markdown",
   "metadata": {},
   "source": [
    "# WTKG3"
   ]
  },
  {
   "cell_type": "code",
   "execution_count": null,
   "metadata": {},
   "outputs": [],
   "source": [
    "clean_and_report(\n",
    "    df_ori, 'WTKG3',[], col_type='Categorical', fig_size = (5, 8)\n",
    ")"
   ]
  },
  {
   "cell_type": "markdown",
   "metadata": {},
   "source": [
    "# _BMI5"
   ]
  },
  {
   "cell_type": "code",
   "execution_count": null,
   "metadata": {},
   "outputs": [],
   "source": [
    "clean_and_report(\n",
    "    df_ori, '_BMI5',[], col_type='Categorical', fig_size = (5, 8)\n",
    ")"
   ]
  },
  {
   "cell_type": "markdown",
   "metadata": {},
   "source": [
    "# _BMI5CAT"
   ]
  },
  {
   "cell_type": "code",
   "execution_count": null,
   "metadata": {},
   "outputs": [],
   "source": [
    "clean_and_report(\n",
    "    df_ori, '_BMI5CAT',[], col_type='Categorical', fig_size = (5, 8)\n",
    ")"
   ]
  },
  {
   "cell_type": "markdown",
   "metadata": {},
   "source": [
    "# _RFBMI5"
   ]
  },
  {
   "cell_type": "code",
   "execution_count": null,
   "metadata": {},
   "outputs": [],
   "source": [
    "clean_steps_RFBMI5 = [\n",
    "    (\n",
    "        lambda x: x == 3,\n",
    "        lambda x: np.nan,\n",
    "        '3 Refused, do not know or missing ->NA'\n",
    "    )\n",
    "]\n",
    "clean_and_report(\n",
    "    df_ori, '_RFBMI5',clean_step_RFBMI5, col_type='Continuous', fig_size = (5, 8)\n",
    ")"
   ]
  },
  {
   "cell_type": "markdown",
   "metadata": {},
   "source": [
    "# cleaning _CHLDCNT"
   ]
  },
  {
   "cell_type": "code",
   "execution_count": null,
   "metadata": {},
   "outputs": [],
   "source": [
    "clean_steps_CHLDCNT = [\n",
    "    (\n",
    "        lambda x: x == 9,\n",
    "        lambda x: np.nan,\n",
    "        '9 Refused, do not know or missing ->NA'\n",
    "    )\n",
    "]\n",
    "clean_and_report(\n",
    "    df_ori, '_CHLDCNT',clean_step_CHLDCNT, col_type='Continuous', fig_size = (5, 8)\n",
    ")"
   ]
  },
  {
   "cell_type": "markdown",
   "metadata": {},
   "source": [
    "# cleaning : _EDUCAG"
   ]
  },
  {
   "cell_type": "code",
   "execution_count": null,
   "metadata": {},
   "outputs": [],
   "source": [
    "clean_steps_EDUCAG = [\n",
    "    (\n",
    "        lambda x: x == 9,\n",
    "        lambda x: np.nan,\n",
    "        '9 Refused, do not know or missing ->NA'\n",
    "    )\n",
    "]\n",
    "clean_and_report(\n",
    "    df_ori, '_EDUCAG',clean_step_EDUCAG\n",
    ")"
   ]
  },
  {
   "cell_type": "markdown",
   "metadata": {},
   "source": [
    "# _INCOMG"
   ]
  },
  {
   "cell_type": "code",
   "execution_count": null,
   "metadata": {},
   "outputs": [],
   "source": [
    "clean_steps_INCOMG = [\n",
    "    (\n",
    "        lambda x: x == 9,\n",
    "        lambda x: np.nan,\n",
    "        '9 Refused, do not know or missing ->NA'\n",
    "    )\n",
    "]\n",
    "clean_and_report(\n",
    "    df_ori, '_INCOMG',clean_step_INCOMG\n",
    ")"
   ]
  },
  {
   "cell_type": "markdown",
   "metadata": {},
   "source": [
    "# _SMOKER3"
   ]
  },
  {
   "cell_type": "code",
   "execution_count": null,
   "metadata": {},
   "outputs": [],
   "source": [
    "clean_steps_SMOKER3 = [\n",
    "    (\n",
    "        lambda x: x == 9,\n",
    "        lambda x: np.nan,\n",
    "        '9 Refused, do not know or missing ->NA'\n",
    "    )\n",
    "]\n",
    "clean_and_report(\n",
    "    df_ori, '_SMOKER3',clean_step_SMOKER3, col_type='Continuous'\n",
    ")"
   ]
  },
  {
   "cell_type": "markdown",
   "metadata": {},
   "source": [
    "# _RFSMOK3"
   ]
  },
  {
   "cell_type": "code",
   "execution_count": null,
   "metadata": {},
   "outputs": [],
   "source": [
    "clean_steps_RFSMOK3 = [\n",
    "    (\n",
    "        lambda x: x == 9,\n",
    "        lambda x: np.nan,\n",
    "        '9 Refused, do not know or missing ->NA'\n",
    "    )\n",
    "]\n",
    "clean_and_report(\n",
    "    df_ori, '_RFSMOK3',clean_step_RFSMOK3\n",
    ")"
   ]
  },
  {
   "cell_type": "markdown",
   "metadata": {},
   "source": [
    "# DRNKANY5"
   ]
  },
  {
   "cell_type": "code",
   "execution_count": null,
   "metadata": {},
   "outputs": [],
   "source": [
    "clean_steps_DRNKANY5 = [\n",
    "    (\n",
    "        lambda x: x == 9,\n",
    "        lambda x: np.nan,\n",
    "        '9 Refused, do not know or missing ->NA'\n",
    "    )\n",
    "]\n",
    "clean_and_report(\n",
    "    df_ori, 'DRNKANY5',clean_step_DRNKANY5, col_type = 'Continuous'\n",
    ")"
   ]
  },
  {
   "cell_type": "markdown",
   "metadata": {},
   "source": [
    "# DROCDY3_"
   ]
  },
  {
   "cell_type": "code",
   "execution_count": null,
   "metadata": {},
   "outputs": [],
   "source": [
    "clean_steps_DROCDY3 = [\n",
    "    (\n",
    "        lambda x: x == 900,\n",
    "        lambda x: np.nan,\n",
    "        '900 Refused, do not know or missing ->NA'\n",
    "    )\n",
    "]\n",
    "clean_and_report(\n",
    "    df_ori, 'DROCDY3_',clean_step_DROCDY3, col_type = 'Continuous'\n",
    ")"
   ]
  },
  {
   "cell_type": "markdown",
   "metadata": {},
   "source": [
    "# _RFBING5"
   ]
  },
  {
   "cell_type": "code",
   "execution_count": null,
   "metadata": {},
   "outputs": [],
   "source": [
    "clean_steps_RFBING5 = [\n",
    "    (\n",
    "        lambda x: x == 9,\n",
    "        lambda x: np.nan,\n",
    "        '9 Refused, do not know or missing ->NA'\n",
    "    )\n",
    "]\n",
    "clean_and_report(\n",
    "    df_ori, '_RFBING5',clean_step_RFBING5 , col_type = 'Continuous'\n",
    ")"
   ]
  },
  {
   "cell_type": "markdown",
   "metadata": {},
   "source": [
    "# _DRNKWEK"
   ]
  },
  {
   "cell_type": "code",
   "execution_count": null,
   "metadata": {},
   "outputs": [],
   "source": [
    "clean_steps_DRNKWEK = [\n",
    "    (\n",
    "        lambda x: x == 99900,\n",
    "        lambda x: np.nan,\n",
    "        '99900 Refused, do not know or missing ->NA'\n",
    "    )\n",
    "]\n",
    "clean_and_report(\n",
    "    df_ori, '_DRNKWEK',clean_step_RFBING5 , col_type = 'Continuous'\n",
    ")"
   ]
  },
  {
   "cell_type": "markdown",
   "metadata": {},
   "source": [
    "# _RFDRHV6"
   ]
  },
  {
   "cell_type": "code",
   "execution_count": null,
   "metadata": {},
   "outputs": [],
   "source": [
    "clean_steps_RFDRHV6 = [\n",
    "    (\n",
    "        lambda x: x == 9,\n",
    "        lambda x: np.nan,\n",
    "        '9 Refused, do not know or missing ->NA'\n",
    "    )\n",
    "]\n",
    "clean_and_report(\n",
    "    df_ori, '_RFDRHV6',clean_step_RFDRHV6 , col_type = 'Continuous'\n",
    ")"
   ]
  },
  {
   "cell_type": "markdown",
   "metadata": {},
   "source": [
    "# FLUSHOT6"
   ]
  },
  {
   "cell_type": "code",
   "execution_count": null,
   "metadata": {},
   "outputs": [],
   "source": [
    "clean_steps_FLSHOT6 = [\n",
    "    (\n",
    "        lambda x: x == 9,\n",
    "        lambda x: np.nan,\n",
    "        '9 Refused, do not know or missing ->NA'\n",
    "    )\n",
    "]\n",
    "clean_and_report(\n",
    "    df_ori, '_FLSHOT6',clean_step_FLSHOT6 , col_type = 'Continuous'\n",
    ")"
   ]
  },
  {
   "cell_type": "markdown",
   "metadata": {},
   "source": [
    "# _PNEUMO3"
   ]
  },
  {
   "cell_type": "code",
   "execution_count": null,
   "metadata": {},
   "outputs": [],
   "source": [
    "clean_steps_PNEUMO3 = [\n",
    "    (\n",
    "        lambda x: x == 9,\n",
    "        lambda x: np.nan,\n",
    "        '9 Refused, do not know or missing ->NA'\n",
    "    )\n",
    "]\n",
    "clean_and_report(\n",
    "    df_ori, '_PNEUMO3',clean_step_PNEUMO3 , col_type = 'Continuous'\n",
    ")"
   ]
  },
  {
   "cell_type": "markdown",
   "metadata": {},
   "source": [
    "# _RFSEAT2"
   ]
  },
  {
   "cell_type": "code",
   "execution_count": null,
   "metadata": {},
   "outputs": [],
   "source": [
    "clean_steps_RFSEAT2 = [\n",
    "    (\n",
    "        lambda x: x == 9,\n",
    "        lambda x: np.nan,\n",
    "        '9 Refused, do not know or missing ->NA'\n",
    "    )\n",
    "]\n",
    "clean_and_report(\n",
    "    df_ori, '_RFSEAT2',clean_step_RFSEAT2 , col_type = 'Continuous'\n",
    ")"
   ]
  },
  {
   "cell_type": "markdown",
   "metadata": {},
   "source": [
    "# _RFSEAT3"
   ]
  },
  {
   "cell_type": "code",
   "execution_count": null,
   "metadata": {},
   "outputs": [],
   "source": [
    "clean_steps_RFSEAT3 = [\n",
    "    (\n",
    "        lambda x: x == 9,\n",
    "        lambda x: np.nan,\n",
    "        '9 Refused, do not know or missing ->NA'\n",
    "    )\n",
    "]\n",
    "clean_and_report(\n",
    "    df_ori, '_RFSEAT3',clean_step_RFSEAT3 , col_type = 'Continuous'\n",
    ")"
   ]
  },
  {
   "cell_type": "markdown",
   "metadata": {},
   "source": [
    "# _DRNKDRV"
   ]
  },
  {
   "cell_type": "code",
   "execution_count": null,
   "metadata": {},
   "outputs": [],
   "source": [
    "clean_steps_DRNKDRV = [\n",
    "    (\n",
    "        lambda x: x == 9,\n",
    "        lambda x: np.nan,\n",
    "        '9 Refused, do not know or missing ->NA'\n",
    "    )\n",
    "]\n",
    "clean_and_report(\n",
    "    df_ori, '_DRNKDRV',clean_step_DRNKDRV , col_type = 'Continuous'\n",
    ")"
   ]
  },
  {
   "cell_type": "markdown",
   "metadata": {},
   "source": [
    "# _RFMAM21"
   ]
  },
  {
   "cell_type": "code",
   "execution_count": null,
   "metadata": {},
   "outputs": [],
   "source": [
    "clean_steps_RFMAM21 = [\n",
    "    (\n",
    "        lambda x: x == 9,\n",
    "        lambda x: np.nan,\n",
    "        '9 Refused, do not know or missing ->NA'\n",
    "    )\n",
    "]\n",
    "clean_and_report(\n",
    "    df_ori, '_RFMAM21',clean_step_RFMAM21, col_type = 'Continuous'\n",
    ")"
   ]
  },
  {
   "cell_type": "markdown",
   "metadata": {},
   "source": [
    "# _MAM5022"
   ]
  },
  {
   "cell_type": "code",
   "execution_count": null,
   "metadata": {},
   "outputs": [],
   "source": [
    "\n",
    "clean_and_report(\n",
    "    df_ori, '_MAM5022',[], col_type = 'Categorical'\n",
    ")"
   ]
  },
  {
   "cell_type": "markdown",
   "metadata": {},
   "source": [
    "# _RFPAP34"
   ]
  },
  {
   "cell_type": "code",
   "execution_count": null,
   "metadata": {},
   "outputs": [],
   "source": [
    "\n",
    "clean_and_report(\n",
    "    df_ori, '_RFPAP34',[], col_type = 'Categorical'\n",
    ")"
   ]
  },
  {
   "cell_type": "markdown",
   "metadata": {},
   "source": [
    "# _RFPSA22"
   ]
  },
  {
   "cell_type": "code",
   "execution_count": null,
   "metadata": {},
   "outputs": [],
   "source": [
    "clean_steps_RFPSA22 = [\n",
    "    (\n",
    "        lambda x: x == 9,\n",
    "        lambda x: np.nan,\n",
    "        '9 Refused, do not know or missing ->NA'\n",
    "    )\n",
    "]\n",
    "clean_and_report(\n",
    "    df_ori, '_RFPSA22',clean_step_RFPSA22, col_type = 'Continuous'\n",
    ")"
   ]
  },
  {
   "cell_type": "markdown",
   "metadata": {},
   "source": [
    "# _RFBLDS3"
   ]
  },
  {
   "cell_type": "code",
   "execution_count": null,
   "metadata": {},
   "outputs": [],
   "source": [
    "clean_and_report(\n",
    "    df_ori, '_RFBLDS3',[], col_type = 'Continuous'\n",
    ")"
   ]
  },
  {
   "cell_type": "markdown",
   "metadata": {},
   "source": [
    "# _COL10YR"
   ]
  },
  {
   "cell_type": "code",
   "execution_count": null,
   "metadata": {},
   "outputs": [],
   "source": [
    "clean_and_report(\n",
    "    df_ori, '_COL10YR',[], col_type = 'Continuous'\n",
    ")"
   ]
  },
  {
   "cell_type": "markdown",
   "metadata": {},
   "source": [
    "# _HFOB3YR"
   ]
  },
  {
   "cell_type": "code",
   "execution_count": null,
   "metadata": {},
   "outputs": [],
   "source": [
    "clean_and_report(\n",
    "    df_ori, '_HFOB3YR',[], col_type = 'Continuous'\n",
    ")"
   ]
  },
  {
   "cell_type": "markdown",
   "metadata": {},
   "source": [
    "# _FS5YR"
   ]
  },
  {
   "cell_type": "code",
   "execution_count": null,
   "metadata": {},
   "outputs": [],
   "source": [
    "clean_and_report(\n",
    "    df_ori, '_FS5YR',[], col_type = 'Continuous'\n",
    ")"
   ]
  },
  {
   "cell_type": "markdown",
   "metadata": {},
   "source": [
    "# _FOBTFS"
   ]
  },
  {
   "cell_type": "code",
   "execution_count": null,
   "metadata": {},
   "outputs": [],
   "source": [
    "clean_and_report(\n",
    "    df_ori, '_FOBTFS',[], col_type = 'Continuous'\n",
    ")"
   ]
  },
  {
   "cell_type": "markdown",
   "metadata": {},
   "source": [
    "# _CRCREC"
   ]
  },
  {
   "cell_type": "code",
   "execution_count": null,
   "metadata": {},
   "outputs": [],
   "source": [
    "clean_and_report(\n",
    "    df_ori, '_CRCREC',[], col_type = 'Continuous'\n",
    ")"
   ]
  },
  {
   "cell_type": "markdown",
   "metadata": {},
   "source": [
    "# _AIDTST3"
   ]
  },
  {
   "cell_type": "code",
   "execution_count": null,
   "metadata": {},
   "outputs": [],
   "source": [
    "clean_and_report(\n",
    "    df_ori, '_AIDTST3',[], col_type = 'Continuous'\n",
    ")"
   ]
  }
 ],
 "metadata": {
  "kernelspec": {
   "display_name": "Python 3",
   "language": "python",
   "name": "python3"
  },
  "language_info": {
   "codemirror_mode": {
    "name": "ipython",
    "version": 3
   },
   "file_extension": ".py",
   "mimetype": "text/x-python",
   "name": "python",
   "nbconvert_exporter": "python",
   "pygments_lexer": "ipython3",
   "version": "3.7.3"
  }
 },
 "nbformat": 4,
 "nbformat_minor": 2
}
