{
 "cells": [
  {
   "cell_type": "code",
   "execution_count": null,
   "metadata": {},
   "outputs": [],
   "source": [
    "import numpy as np\n",
    "import pandas as pd\n",
    "import reportlab\n",
    "import seaborn as sns\n",
    "\n",
    "from utils import *"
   ]
  },
  {
   "cell_type": "code",
   "execution_count": null,
   "metadata": {},
   "outputs": [],
   "source": [
    "df_ori = pd.read_csv('LLCP2018.csv.gz')\n",
    "df = df_ori.copy()"
   ]
  },
  {
   "cell_type": "code",
   "execution_count": null,
   "metadata": {},
   "outputs": [],
   "source": [
    "#Cleaning INDORTAN - Times used an indoor tanning device\n",
    "\n",
    "#Missing Count\n",
    "missing_count = df['INDORTAN'].isna().sum()\n",
    "missing_report = 'There are {:d} ({:.2f}%) missing records after cleaning.'.format(\n",
    "    missing_count, missing_count / len(df) * 100\n",
    ")\n",
    "missing_report\n",
    "\n",
    "\n",
    "clean_steps_INDORTAN = [\n",
    "\n",
    "    (\n",
    "        lambda x: x == 777,\n",
    "        lambda x: np.nan,\n",
    "        '777 Dont know / Not sure -> NA'\n",
    "    ),\n",
    "    (\n",
    "        lambda x: x == 888,\n",
    "        lambda x: 0,\n",
    "        '888 Never -> 0'\n",
    "    ),\n",
    "    (\n",
    "        lambda x: x == 999,\n",
    "        lambda x: np.nan,\n",
    "        '999 Refused -> NA'\n",
    "    ),\n",
    "]\n",
    "clean_and_report(\n",
    "    df_ori, 'INDORTAN', clean_steps_INDORTAN, # (optional) col_type='Continuous'\n",
    ")"
   ]
  },
  {
   "cell_type": "code",
   "execution_count": null,
   "metadata": {},
   "outputs": [],
   "source": [
    "#Cleaning NUMBURN3 - During the past 12 months, how many times have you had a sunburn?\n",
    "\n",
    "#Missing Count\n",
    "missing_count = df['NUMBURN3'].isna().sum()\n",
    "missing_report = 'There are {:d} ({:.2f}%) missing records after cleaning.'.format(\n",
    "    missing_count, missing_count / len(df) * 100\n",
    ")\n",
    "missing_report\n",
    "\n",
    "# [(figure, size), text]\n",
    "ReportBuilder(\n",
    "    [(fig_before, (8, 3)), cleaner.get_clean_report(), missing_report, (fig_after, (8, 3))],\n",
    "    title='NUMBURN3', filename='NUMBURN3.pdf'\n",
    ").build_report()\n",
    "\n",
    "clean_steps_NUMBURN3 = [\n",
    "\n",
    "    (\n",
    "        lambda x: x == 777,\n",
    "        lambda x: np.nan,\n",
    "        '777 Dont know / Not sure -> NA'\n",
    "    ),\n",
    "    (\n",
    "        lambda x: x == 888,\n",
    "        lambda x: 0,\n",
    "        '888 Never -> 0'\n",
    "    ),\n",
    "    (\n",
    "        lambda x: x == 999,\n",
    "        lambda x: np.nan,\n",
    "        '999 Refused -> NA'\n",
    "    ),\n",
    "]\n",
    "clean_and_report(\n",
    "    df_ori, 'NUMBURN3', clean_steps_NUMBURN3, # (optional) col_type='Continuous'\n",
    ")"
   ]
  },
  {
   "cell_type": "code",
   "execution_count": null,
   "metadata": {
    "scrolled": true
   },
   "outputs": [],
   "source": [
    "#Cleaning SUNPRTCT - How often protect yourself from the sun\n",
    "clean_steps_SUNPRTCT = [\n",
    "    (lambda x: x == 7, lambda x: np.nan, '7 Dont know / Not sure -> NA'),\n",
    "    (lambda x: x == 9, lambda x: np.nan, '9 Refused -> NA'),\n",
    "]\n",
    "clean_and_report(\n",
    "    df_ori, 'SUNPRTCT', clean_steps_SUNPRTCT, # (optional) col_type='Categorical'\n",
    ")"
   ]
  },
  {
   "cell_type": "code",
   "execution_count": null,
   "metadata": {},
   "outputs": [],
   "source": [
    "#Cleaning WKDAYOUT - On weekdays, in the summer, how long are you outside per day between 10am and 4pm\n",
    "clean_steps_WKDAYOUT = [\n",
    "    (lambda x: x == 77, lambda x: np.nan, '77 Dont know / Not sure -> NA'),\n",
    "    (lambda x: x == 99, lambda x: np.nan, '99 Refused -> NA'),\n",
    "]\n",
    "clean_and_report(\n",
    "    df_ori, 'WKDAYOUT', clean_steps_WKDAYOUT, # (optional) col_type='Categorical'\n",
    ")"
   ]
  },
  {
   "cell_type": "code",
   "execution_count": null,
   "metadata": {},
   "outputs": [],
   "source": [
    "#Cleaning WKENDOUT - On weekends in the summer, how long are you outside each day between 10am and 4pm?\n",
    "clean_steps_WKENDOUT = [\n",
    "    (lambda x: x == 77, lambda x: np.nan, '77 Dont know / Not sure -> NA'),\n",
    "    (lambda x: x == 99, lambda x: np.nan, '99 Refused -> NA'),\n",
    "]\n",
    "clean_and_report(\n",
    "    df_ori, 'WKENDOUT', clean_steps_WKENDOUT, # (optional) col_type='Categorical'\n",
    ")"
   ]
  },
  {
   "cell_type": "code",
   "execution_count": null,
   "metadata": {},
   "outputs": [],
   "source": [
    "#Cleaning LCSFIRST - How old when you first started smoking?\n",
    "\n",
    "#Missing Count\n",
    "missing_count = df['LCSFIRST'].isna().sum()\n",
    "missing_report = 'There are {:d} ({:.2f}%) missing records after cleaning.'.format(\n",
    "    missing_count, missing_count / len(df) * 100\n",
    ")\n",
    "missing_report\n",
    "\n",
    "# [(figure, size), text]\n",
    "ReportBuilder(\n",
    "    [(fig_before, (8, 3)), cleaner.get_clean_report(), missing_report, (fig_after, (8, 3))],\n",
    "    title='LCSFIRST', filename='LCSFIRST.pdf'\n",
    ").build_report()\n",
    "\n",
    "clean_steps_LCSFIRST = [\n",
    "\n",
    "    (\n",
    "        lambda x: x == 777,\n",
    "        lambda x: np.nan,\n",
    "        '777 Dont know / Not sure -> NA'\n",
    "    ),\n",
    "    (\n",
    "        lambda x: x == 888,\n",
    "        lambda x: 0,\n",
    "        '888 Never -> 0'\n",
    "    ),\n",
    "    (\n",
    "        lambda x: x == 999,\n",
    "        lambda x: np.nan,\n",
    "        '999 Refused -> NA'\n",
    "    ),\n",
    "]\n",
    "clean_and_report(\n",
    "    df_ori, 'LCSFIRST', clean_steps_LCSFIRST, # (optional) col_type='Continuous'\n",
    ")"
   ]
  },
  {
   "cell_type": "code",
   "execution_count": null,
   "metadata": {},
   "outputs": [],
   "source": [
    "#Cleaning LCSLAST - How old when you last smoked?\n",
    "\n",
    "#Missing Count\n",
    "missing_count = df['LCSLAST'].isna().sum()\n",
    "missing_report = 'There are {:d} ({:.2f}%) missing records after cleaning.'.format(\n",
    "    missing_count, missing_count / len(df) * 100\n",
    ")\n",
    "missing_report\n",
    "\n",
    "# [(figure, size), text]\n",
    "ReportBuilder(\n",
    "    [(fig_before, (8, 3)), cleaner.get_clean_report(), missing_report, (fig_after, (8, 3))],\n",
    "    title='LCSLAST', filename='LCSLAST.pdf'\n",
    ").build_report()\n",
    "\n",
    "clean_steps_LCSLAST = [\n",
    "\n",
    "    (\n",
    "        lambda x: x == 777,\n",
    "        lambda x: np.nan,\n",
    "        '777 Dont know / Not sure -> NA'\n",
    "    ),\n",
    "    (\n",
    "        lambda x: x == 888,\n",
    "        lambda x: 0,\n",
    "        '888 Never -> 0'\n",
    "    ),\n",
    "    (\n",
    "        lambda x: x == 999,\n",
    "        lambda x: np.nan,\n",
    "        '999 Refused -> NA'\n",
    "    ),\n",
    "]\n",
    "clean_and_report(\n",
    "    df_ori, 'LCSLAST', clean_steps_LCSLAST, # (optional) col_type='Continuous'\n",
    ")"
   ]
  },
  {
   "cell_type": "code",
   "execution_count": null,
   "metadata": {},
   "outputs": [],
   "source": [
    "#Cleaning LCSNUMCG - On Average, how many cigarettes do you smoke each day?\n",
    "\n",
    "#Missing Count\n",
    "missing_count = df['LCSNUMCG'].isna().sum()\n",
    "missing_report = 'There are {:d} ({:.2f}%) missing records after cleaning.'.format(\n",
    "    missing_count, missing_count / len(df) * 100\n",
    ")\n",
    "missing_report\n",
    "\n",
    "# [(figure, size), text]\n",
    "ReportBuilder(\n",
    "    [(fig_before, (8, 3)), cleaner.get_clean_report(), missing_report, (fig_after, (8, 3))],\n",
    "    title='LCSNUMCG', filename='LCSNUMCG.pdf'\n",
    ").build_report()\n",
    "\n",
    "clean_steps_LCSNUMCG = [\n",
    "\n",
    "    (\n",
    "        lambda x: x == 777,\n",
    "        lambda x: np.nan,\n",
    "        '777 Dont know / Not sure -> NA'\n",
    "    ),\n",
    "    (\n",
    "        lambda x: x == 888,\n",
    "        lambda x: 0,\n",
    "        '888 Never -> 0'\n",
    "    ),\n",
    "    (\n",
    "        lambda x: x == 999,\n",
    "        lambda x: np.nan,\n",
    "        '999 Refused -> NA'\n",
    "    ),\n",
    "]\n",
    "clean_and_report(\n",
    "    df_ori, 'LCSNUMCG', clean_steps_LCSNUMCG, # (optional) col_type='Continuous'\n",
    ")"
   ]
  },
  {
   "cell_type": "code",
   "execution_count": null,
   "metadata": {},
   "outputs": [],
   "source": [
    "#Cleaning LCSCTSCN - Did you have a CT or CAT scan?\n",
    "clean_steps_LCSCTSCN = [\n",
    "    (lambda x: x == 7, lambda x: np.nan, '7 Dont know / Not sure -> NA'),\n",
    "    (lambda x: x == 9, lambda x: np.nan, '9 Refused -> NA'),\n",
    "]\n",
    "clean_and_report(\n",
    "    df_ori, 'LCSCTSCN', clean_steps_LCSCTSCN, # (optional) col_type='Categorical'\n",
    ")"
   ]
  },
  {
   "cell_type": "code",
   "execution_count": null,
   "metadata": {},
   "outputs": [],
   "source": [
    "#Cleaning CNCRDIFF - How many types of cancer?\n",
    "clean_steps_CNCRDIFF = [\n",
    "    (lambda x: x == 7, lambda x: np.nan, '7 Dont know / Not sure -> NA'),\n",
    "    (lambda x: x == 9, lambda x: np.nan, '9 Refused -> NA'),\n",
    "]\n",
    "clean_and_report(\n",
    "    df_ori, 'CNCRDIFF', clean_steps_CNCRDIFF, # (optional) col_type='Categorical'\n",
    ")"
   ]
  },
  {
   "cell_type": "code",
   "execution_count": null,
   "metadata": {},
   "outputs": [],
   "source": [
    "#Cleaning CNCRAGE - Age told had cancer\n",
    "\n",
    "#Missing Count\n",
    "missing_count = df['CNCRAGE'].isna().sum()\n",
    "missing_report = 'There are {:d} ({:.2f}%) missing records after cleaning.'.format(\n",
    "    missing_count, missing_count / len(df) * 100\n",
    ")\n",
    "missing_report\n",
    "\n",
    "# [(figure, size), text]\n",
    "ReportBuilder(\n",
    "    [(fig_before, (8, 3)), cleaner.get_clean_report(), missing_report, (fig_after, (8, 3))],\n",
    "    title='CNCRAGE', filename='CNCRAGE.pdf'\n",
    ").build_report()\n",
    "\n",
    "clean_steps_CNCRAGE = [\n",
    "\n",
    "    (\n",
    "        lambda x: x == 98,\n",
    "        lambda x: np.nan,\n",
    "        '98 Dont know / Not sure -> NA'\n",
    "    ),\n",
    "    (\n",
    "        lambda x: x == 99,\n",
    "        lambda x: np.nan,\n",
    "        '99 Refused -> NA'\n",
    "    ),\n",
    "]\n",
    "clean_and_report(\n",
    "    df_ori, 'CNCRAGE', clean_steps_CNCRAGE, # (optional) col_type='Continuous'\n",
    ")"
   ]
  },
  {
   "cell_type": "code",
   "execution_count": null,
   "metadata": {},
   "outputs": [],
   "source": [
    "#Cleaning CNCRTYP1 - Type of Cancer\n",
    "clean_steps_CNCRTYP1 = [\n",
    "    (lambda x: x == 7, lambda x: np.nan, '7 Dont know / Not sure -> NA'),\n",
    "    (lambda x: x == 9, lambda x: np.nan, '9 Refused -> NA'),\n",
    "]\n",
    "clean_and_report(\n",
    "    df_ori, 'CNCRTYP1', clean_steps_CNCRTYP1, # (optional) col_type='Categorical'\n",
    ")"
   ]
  },
  {
   "cell_type": "code",
   "execution_count": null,
   "metadata": {},
   "outputs": [],
   "source": [
    "#Cleaning CSRVTRT2 - Currently receiving treatment for cancer\n",
    "clean_steps_CSRVTRT2 = [\n",
    "    (lambda x: x == 7, lambda x: np.nan, '7 Dont know / Not sure -> NA'),\n",
    "    (lambda x: x == 9, lambda x: np.nan, '9 Refused -> NA'),\n",
    "]\n",
    "clean_and_report(\n",
    "    df_ori, 'CSRVTRT2', clean_steps_CSRVTRT2, # (optional) col_type='Categorical'\n",
    ")"
   ]
  },
  {
   "cell_type": "code",
   "execution_count": null,
   "metadata": {},
   "outputs": [],
   "source": [
    "#Cleaning CSRVDOC1 - What type of doctor provides the majority of your health care?\n",
    "clean_steps_CSRVDOC1 = [\n",
    "    (lambda x: x == 77, lambda x: np.nan, '77 Dont know / Not sure -> NA'),\n",
    "    (lambda x: x == 99, lambda x: np.nan, '99 Refused -> NA'),\n",
    "]\n",
    "clean_and_report(\n",
    "    df_ori, 'CSRVDOC1', clean_steps_CSRVDOC1, # (optional) col_type='Categorical'\n",
    ")"
   ]
  },
  {
   "cell_type": "code",
   "execution_count": null,
   "metadata": {},
   "outputs": [],
   "source": [
    "#Cleaning CSRVSUM - Did any doctor, nurse, or other health professional\n",
    "#ever give you a written summary of all the cancer treatments that you received?\n",
    "clean_steps_CSRVSUM = [\n",
    "    (lambda x: x == 7, lambda x: np.nan, '7 Dont know / Not sure -> NA'),\n",
    "    (lambda x: x == 9, lambda x: np.nan, '9 Refused -> NA'),\n",
    "]\n",
    "clean_and_report(\n",
    "    df_ori, 'CSRVSUM', clean_steps_CSRVSUM, # (optional) col_type='Categorical'\n",
    ")"
   ]
  },
  {
   "cell_type": "code",
   "execution_count": null,
   "metadata": {},
   "outputs": [],
   "source": [
    "#Cleaning CSRVRTRN - Ever receive instructions from a doctor for follow-up check-ups\n",
    "clean_steps_CSRVRTRN = [\n",
    "    (lambda x: x == 7, lambda x: np.nan, '7 Dont know / Not sure -> NA'),\n",
    "    (lambda x: x == 9, lambda x: np.nan, '9 Refused -> NA'),\n",
    "]\n",
    "clean_and_report(\n",
    "    df_ori, 'CSRVRTRN', clean_steps_CSRVRTRN, # (optional) col_type='Categorical'\n",
    ")"
   ]
  },
  {
   "cell_type": "code",
   "execution_count": null,
   "metadata": {},
   "outputs": [],
   "source": [
    "#Cleaning CSRVINST - Were these instrcutions written down or printed on paper for you?\n",
    "clean_steps_CSRVINST = [\n",
    "    (lambda x: x == 7, lambda x: np.nan, '7 Dont know / Not sure -> NA'),\n",
    "    (lambda x: x == 9, lambda x: np.nan, '9 Refused -> NA'),\n",
    "]\n",
    "clean_and_report(\n",
    "    df_ori, 'CSRVINST', clean_steps_CSRVINST, # (optional) col_type='Categorical'\n",
    ")"
   ]
  },
  {
   "cell_type": "code",
   "execution_count": null,
   "metadata": {},
   "outputs": [],
   "source": [
    "#Cleaning CSRVINSR - Did Health Insurance Pay For All Of Your Cancer Treatment\n",
    "clean_steps_CSRVINSR = [\n",
    "    (lambda x: x == 7, lambda x: np.nan, '7 Dont know / Not sure -> NA'),\n",
    "    (lambda x: x == 9, lambda x: np.nan, '9 Refused -> NA'),\n",
    "]\n",
    "clean_and_report(\n",
    "    df_ori, 'CSRVINSR', clean_steps_CSRVINSR, # (optional) col_type='Categorical'\n",
    ")"
   ]
  },
  {
   "cell_type": "code",
   "execution_count": null,
   "metadata": {},
   "outputs": [],
   "source": [
    "#Cleaning CSRVCLIN - Participate In Clinical Trial As Part Of Cancer Treatment?\n",
    "clean_steps_CSRVCLIN = [\n",
    "    (lambda x: x == 7, lambda x: np.nan, '7 Dont know / Not sure -> NA'),\n",
    "    (lambda x: x == 9, lambda x: np.nan, '9 Refused -> NA'),\n",
    "]\n",
    "clean_and_report(\n",
    "    df_ori, 'CSRVCLIN', clean_steps_CSRVCLIN, # (optional) col_type='Categorical'\n",
    ")"
   ]
  },
  {
   "cell_type": "code",
   "execution_count": null,
   "metadata": {},
   "outputs": [],
   "source": [
    "#Cleaning CSRVPAIN - Do you currently have physical pain caused by your cancer or cancer treatment?\n",
    "clean_steps_CSRVPAIN = [\n",
    "    (lambda x: x == 7, lambda x: np.nan, '7 Dont know / Not sure -> NA'),\n",
    "    (lambda x: x == 9, lambda x: np.nan, '9 Refused -> NA'),\n",
    "]\n",
    "clean_and_report(\n",
    "    df_ori, 'CSRVPAIN', clean_steps_CSRVPAIN, # (optional) col_type='Categorical'\n",
    ")"
   ]
  },
  {
   "cell_type": "code",
   "execution_count": null,
   "metadata": {},
   "outputs": [],
   "source": [
    "#Cleaning CSRVCTL1 -  Is your pain currently under control?\n",
    "clean_steps_CSRVCTL1 = [\n",
    "    (lambda x: x == 7, lambda x: np.nan, '7 Dont know / Not sure -> NA'),\n",
    "    (lambda x: x == 9, lambda x: np.nan, '9 Refused -> NA'),\n",
    "]\n",
    "clean_and_report(\n",
    "    df_ori, 'CSRVCTL1', clean_steps_CSRVCTL1, # (optional) col_type='Categorical'\n",
    ")"
   ]
  },
  {
   "cell_type": "code",
   "execution_count": null,
   "metadata": {},
   "outputs": [],
   "source": [
    "#Cleaning PCPSADE1 - Which of the following best describes the decision to have the P.S.A. test done?\n",
    "clean_steps_PCPSADE1 = [\n",
    "    (lambda x: x == 7, lambda x: np.nan, '7 Dont know / Not sure -> NA'),\n",
    "    (lambda x: x == 9, lambda x: np.nan, '9 Refused -> NA'),\n",
    "]\n",
    "clean_and_report(\n",
    "    df_ori, 'PCPSADE1', clean_steps_PCPSADE1, # (optional) col_type='Categorical'\n",
    ")"
   ]
  },
  {
   "cell_type": "code",
   "execution_count": null,
   "metadata": {},
   "outputs": [],
   "source": [
    "#Cleaning PROFEXAM - Ever Had Breast Physical Exam by Doctor\n",
    "clean_steps_PROFEXAM = [\n",
    "    (lambda x: x == 7, lambda x: np.nan, '7 Dont know / Not sure -> NA'),\n",
    "    (lambda x: x == 9, lambda x: np.nan, '9 Refused -> NA'),\n",
    "]\n",
    "clean_and_report(\n",
    "    df_ori, 'PROFEXAM', clean_steps_PROFEXAM, # (optional) col_type='Categorical'\n",
    ")"
   ]
  },
  {
   "cell_type": "code",
   "execution_count": null,
   "metadata": {},
   "outputs": [],
   "source": [
    "#Cleaning LENGEXAM - How Long since Last Breast Physical Exam\n",
    "clean_steps_LENGEXAM = [\n",
    "    (lambda x: x == 7, lambda x: np.nan, '7 Dont know / Not sure -> NA'),\n",
    "    (lambda x: x == 9, lambda x: np.nan, '9 Refused -> NA'),\n",
    "]\n",
    "clean_and_report(\n",
    "    df_ori, 'LENGEXAM', clean_steps_LENGEXAM, # (optional) col_type='Categorical'\n",
    ")"
   ]
  },
  {
   "cell_type": "code",
   "execution_count": null,
   "metadata": {},
   "outputs": [],
   "source": [
    "#Cleaning HPVADVC2 -  Have you ever had the HPV vaccination?\n",
    "clean_steps_HPVADVC2 = [\n",
    "    (lambda x: x == 7, lambda x: np.nan, '7 Dont know / Not sure -> NA'),\n",
    "    (lambda x: x == 9, lambda x: np.nan, '9 Refused -> NA'),\n",
    "]\n",
    "clean_and_report(\n",
    "    df_ori, 'HPVADVC2', clean_steps_HPVADVC2, # (optional) col_type='Categorical'\n",
    ")"
   ]
  },
  {
   "cell_type": "code",
   "execution_count": null,
   "metadata": {},
   "outputs": [],
   "source": [
    "#Cleaning HPVADSHT - How many HPV shots did you receive?\n",
    "clean_steps_HPVADSHT = [\n",
    "    (lambda x: x == 77, lambda x: np.nan, '77 Dont know / Not sure -> NA'),\n",
    "    (lambda x: x == 99, lambda x: np.nan, '99 Refused -> NA'),\n",
    "]\n",
    "clean_and_report(\n",
    "    df_ori, 'HPVADSHT', clean_steps_HPVADSHT, # (optional) col_type='Categorical'\n",
    ")"
   ]
  },
  {
   "cell_type": "code",
   "execution_count": null,
   "metadata": {},
   "outputs": [],
   "source": [
    "#Cleaning TETANUS1 - Received Tetanus Shot Since 2005?\n",
    "clean_steps_TETANUS1 = [\n",
    "    (lambda x: x == 7, lambda x: np.nan, '7 Dont know / Not sure -> NA'),\n",
    "    (lambda x: x == 9, lambda x: np.nan, '9 Refused -> NA'),\n",
    "]\n",
    "clean_and_report(\n",
    "    df_ori, 'TETANUS1', clean_steps_TETANUS1, # (optional) col_type='Categorical'\n",
    ")"
   ]
  },
  {
   "cell_type": "code",
   "execution_count": null,
   "metadata": {},
   "outputs": [],
   "source": [
    "#Cleaning SHINGLE2 - Have you ever had the shingles or zoster vaccine?\n",
    "clean_steps_SHINGLE2 = [\n",
    "    (lambda x: x == 7, lambda x: np.nan, '7 Dont know / Not sure -> NA'),\n",
    "    (lambda x: x == 9, lambda x: np.nan, '9 Refused -> NA'),\n",
    "]\n",
    "clean_and_report(\n",
    "    df_ori, 'SHINGLE2', clean_steps_SHINGLE2, # (optional) col_type='Categorical'\n",
    ")"
   ]
  },
  {
   "cell_type": "code",
   "execution_count": null,
   "metadata": {},
   "outputs": [],
   "source": [
    "#Cleaning SOMALE - Which of the following best represents how you think of yourself - sexual orientation\n",
    "clean_steps_SOMALE = [\n",
    "    (lambda x: x == 7, lambda x: np.nan, '7 Dont know / Not sure -> NA'),\n",
    "    (lambda x: x == 9, lambda x: np.nan, '9 Refused -> NA'),\n",
    "]\n",
    "clean_and_report(\n",
    "    df_ori, 'SOMALE', clean_steps_SOMALE, # (optional) col_type='Categorical'\n",
    ")"
   ]
  },
  {
   "cell_type": "code",
   "execution_count": null,
   "metadata": {},
   "outputs": [],
   "source": [
    "#Cleaning SOFEMALE - Which of the following best represents how you think of yourself - sexual orientation\n",
    "clean_steps_SOFEMALE = [\n",
    "    (lambda x: x == 7, lambda x: np.nan, '7 Dont know / Not sure -> NA'),\n",
    "    (lambda x: x == 9, lambda x: np.nan, '9 Refused -> NA'),\n",
    "]\n",
    "clean_and_report(\n",
    "    df_ori, 'SOFEMALE', clean_steps_SOFEMALE, # (optional) col_type='Categorical'\n",
    ")"
   ]
  },
  {
   "cell_type": "code",
   "execution_count": null,
   "metadata": {},
   "outputs": [],
   "source": [
    "#Cleaning TRNSGNDR - Do you consider yourself to be transgender?\n",
    "clean_steps_TRNSGNDR = [\n",
    "    (lambda x: x == 7, lambda x: np.nan, '7 Dont know / Not sure -> NA'),\n",
    "    (lambda x: x == 9, lambda x: np.nan, '9 Refused -> NA'),\n",
    "]\n",
    "clean_and_report(\n",
    "    df_ori, 'TRNSGNDR', clean_steps_TRNSGNDR, # (optional) col_type='Categorical'\n",
    ")"
   ]
  },
  {
   "cell_type": "code",
   "execution_count": null,
   "metadata": {},
   "outputs": [],
   "source": [
    "#Cleaning RCSGENDR - Gender of child\n",
    "clean_steps_RCSGENDR = [\n",
    "    (lambda x: x == 7, lambda x: np.nan, '7 Dont know / Not sure -> NA'),\n",
    "    (lambda x: x == 9, lambda x: np.nan, '9 Refused -> NA'),\n",
    "]\n",
    "clean_and_report(\n",
    "    df_ori, 'RCSGENDR', clean_steps_RCSGENDR, # (optional) col_type='Categorical'\n",
    ")"
   ]
  },
  {
   "cell_type": "code",
   "execution_count": null,
   "metadata": {},
   "outputs": [],
   "source": [
    "#Cleaning RCSRLTN2 - Relationship to child\n",
    "clean_steps_RCSRLTN2 = [\n",
    "    (lambda x: x == 7, lambda x: np.nan, '7 Dont know / Not sure -> NA'),\n",
    "    (lambda x: x == 9, lambda x: np.nan, '9 Refused -> NA'),\n",
    "]\n",
    "clean_and_report(\n",
    "    df_ori, 'RCSRLTN2', clean_steps_RCSRLTN2, # (optional) col_type='Categorical'\n",
    ")"
   ]
  },
  {
   "cell_type": "code",
   "execution_count": null,
   "metadata": {},
   "outputs": [],
   "source": [
    "#Cleaning CASTHDX2 - Has a doctor, nurse or other health professional EVER said that the child has asthma\n",
    "clean_steps_CASTHDX2 = [\n",
    "    (lambda x: x == 7, lambda x: np.nan, '7 Dont know / Not sure -> NA'),\n",
    "    (lambda x: x == 9, lambda x: np.nan, '9 Refused -> NA'),\n",
    "]\n",
    "clean_and_report(\n",
    "    df_ori, 'CASTHDX2', clean_steps_CASTHDX2, # (optional) col_type='Categorical'\n",
    ")"
   ]
  },
  {
   "cell_type": "code",
   "execution_count": null,
   "metadata": {},
   "outputs": [],
   "source": [
    "#Cleaning CASTHNO2 - Does the child still have asthma?\n",
    "clean_steps_CASTHNO2 = [\n",
    "    (lambda x: x == 7, lambda x: np.nan, '7 Dont know / Not sure -> NA'),\n",
    "    (lambda x: x == 9, lambda x: np.nan, '9 Refused -> NA'),\n",
    "]\n",
    "clean_and_report(\n",
    "    df_ori, 'CASTHNO2', clean_steps_CASTHNO2, # (optional) col_type='Categorical'\n",
    ")"
   ]
  },
  {
   "cell_type": "code",
   "execution_count": null,
   "metadata": {},
   "outputs": [],
   "source": [
    "#Cleaning _CHISPNC - Child Hispanic, Latino/a, or Spanish origin calculated variable\n",
    "clean_steps_CHISPNC = [\n",
    "    (lambda x: x == 7, lambda x: np.nan, '7 Dont know / Not sure -> NA'),\n",
    "    (lambda x: x == 9, lambda x: np.nan, '9 Refused -> NA'),\n",
    "]\n",
    "clean_and_report(\n",
    "    df_ori, '_CHISPNC', clean_steps_CHISPNC, # (optional) col_type='Categorical'\n",
    ")"
   ]
  },
  {
   "cell_type": "code",
   "execution_count": null,
   "metadata": {},
   "outputs": [],
   "source": [
    "#Cleaning _CRACE1 - Child Hispanic, Latino/a, or Spanish origin calculated variable\n",
    "clean_steps_CRACE1 = [\n",
    "    (lambda x: x == 77, lambda x: np.nan, '77 Dont know / Not sure -> NA'),\n",
    "    (lambda x: x == 99, lambda x: np.nan, '99 Refused -> NA'),\n",
    "]\n",
    "clean_and_report(\n",
    "    df_ori, '_CRACE1', clean_steps_CRACE1, # (optional) col_type='Categorical'\n",
    ")"
   ]
  },
  {
   "cell_type": "code",
   "execution_count": null,
   "metadata": {},
   "outputs": [],
   "source": [
    "#Cleaning _CPRACE - Preferred Child Race Categories \n",
    "clean_steps_CPRACE = [\n",
    "    (lambda x: x == 77, lambda x: np.nan, '77 Dont know / Not sure -> NA'),\n",
    "    (lambda x: x == 99, lambda x: np.nan, '99 Refused -> NA'),\n",
    "]\n",
    "clean_and_report(\n",
    "    df_ori, '_CPRACE', clean_steps_CPRACE, # (optional) col_type='Categorical'\n",
    ")"
   ]
  },
  {
   "cell_type": "code",
   "execution_count": null,
   "metadata": {},
   "outputs": [],
   "source": [
    "#Cleaning _RFHLTH - Adults with good or better health\n",
    "clean_steps_RFHLTH = [\n",
    "    (lambda x: x == 7, lambda x: np.nan, '7 Dont know / Not sure -> NA'),\n",
    "    (lambda x: x == 9, lambda x: np.nan, '9 Refused -> NA'),\n",
    "]\n",
    "clean_and_report(\n",
    "    df_ori, '_RFHLTH', clean_steps_RFHLTH, # (optional) col_type='Categorical'\n",
    ")"
   ]
  },
  {
   "cell_type": "code",
   "execution_count": null,
   "metadata": {},
   "outputs": [],
   "source": [
    "#Cleaning _PHYS14D - Computed Physical Health Status\n",
    "clean_steps_PHYS14D = [\n",
    "    (lambda x: x == 7, lambda x: np.nan, '7 Dont know / Not sure -> NA'),\n",
    "    (lambda x: x == 9, lambda x: np.nan, '9 Refused -> NA'),\n",
    "]\n",
    "clean_and_report(\n",
    "    df_ori, '_PHYS14D', clean_steps_PHYS14D, # (optional) col_type='Categorical'\n",
    ")"
   ]
  },
  {
   "cell_type": "code",
   "execution_count": null,
   "metadata": {},
   "outputs": [],
   "source": [
    "#Cleaning _MENT14D - Computed Mental Health Status\n",
    "clean_steps_MENT14D = [\n",
    "    (lambda x: x == 7, lambda x: np.nan, '7 Dont know / Not sure -> NA'),\n",
    "    (lambda x: x == 9, lambda x: np.nan, '9 Refused -> NA'),\n",
    "]\n",
    "clean_and_report(\n",
    "    df_ori, '_MENT14D', clean_steps_MENT14D, # (optional) col_type='Categorical'\n",
    ")"
   ]
  },
  {
   "cell_type": "code",
   "execution_count": null,
   "metadata": {},
   "outputs": [],
   "source": [
    "#Cleaning _HCVU651 - Respondents aged 18-64 with health care coverage\n",
    "clean_steps_HCVU651 = [\n",
    "    (lambda x: x == 7, lambda x: np.nan, '7 Dont know / Not sure -> NA'),\n",
    "    (lambda x: x == 9, lambda x: np.nan, '9 Refused -> NA'),\n",
    "]\n",
    "clean_and_report(\n",
    "    df_ori, '_HCVU651', clean_steps_HCVU651, # (optional) col_type='Categorical'\n",
    ")"
   ]
  },
  {
   "cell_type": "code",
   "execution_count": null,
   "metadata": {},
   "outputs": [],
   "source": [
    "#Cleaning _TOTINDA - Leisure Time Physical Activity Calculated Variable\n",
    "clean_steps_TOTINDA = [\n",
    "    (lambda x: x == 7, lambda x: np.nan, '7 Dont know / Not sure -> NA'),\n",
    "    (lambda x: x == 9, lambda x: np.nan, '9 Refused -> NA'),\n",
    "]\n",
    "clean_and_report(\n",
    "    df_ori, '_TOTINDA', clean_steps_TOTINDA, # (optional) col_type='Categorical'\n",
    ")"
   ]
  },
  {
   "cell_type": "code",
   "execution_count": null,
   "metadata": {},
   "outputs": [],
   "source": [
    "#Cleaning _LTASTH1 - Adults who have ever been told they have asthma\n",
    "clean_steps_LTASTH1 = [\n",
    "    (lambda x: x == 7, lambda x: np.nan, '7 Dont know / Not sure -> NA'),\n",
    "    (lambda x: x == 9, lambda x: np.nan, '9 Refused -> NA'),\n",
    "]\n",
    "clean_and_report(\n",
    "    df_ori, '_LTASTH1', clean_steps_LTASTH1, # (optional) col_type='Categorical'\n",
    ")"
   ]
  },
  {
   "cell_type": "code",
   "execution_count": null,
   "metadata": {},
   "outputs": [],
   "source": [
    "#Cleaning _CASTHM1 - Adults who have been told they currently have asthma\n",
    "clean_steps_CASTHM1 = [\n",
    "    (lambda x: x == 7, lambda x: np.nan, '7 Dont know / Not sure -> NA'),\n",
    "    (lambda x: x == 9, lambda x: np.nan, '9 Refused -> NA'),\n",
    "]\n",
    "clean_and_report(\n",
    "    df_ori, '_CASTHM1', clean_steps_CASTHM1, # (optional) col_type='Categorical'\n",
    ")"
   ]
  },
  {
   "cell_type": "code",
   "execution_count": null,
   "metadata": {},
   "outputs": [],
   "source": [
    "#Cleaning _ASTHMS1 - Computed asthma status\n",
    "clean_steps_ASTHMS1 = [\n",
    "    (lambda x: x == 7, lambda x: np.nan, '7 Dont know / Not sure -> NA'),\n",
    "    (lambda x: x == 9, lambda x: np.nan, '9 Refused -> NA'),\n",
    "]\n",
    "clean_and_report(\n",
    "    df_ori, '_ASTHMS1', clean_steps_ASTHMS1, # (optional) col_type='Categorical'\n",
    ")"
   ]
  },
  {
   "cell_type": "code",
   "execution_count": null,
   "metadata": {},
   "outputs": [],
   "source": [
    "#Cleaning _EXTETH3 - Adults aged 18+ who have had permanent teeth extracted\n",
    "clean_steps_EXTETH3 = [\n",
    "    (lambda x: x == 7, lambda x: np.nan, '7 Dont know / Not sure -> NA'),\n",
    "    (lambda x: x == 9, lambda x: np.nan, '9 Refused -> NA'),\n",
    "]\n",
    "clean_and_report(\n",
    "    df_ori, '_EXTETH3', clean_steps_EXTETH3, # (optional) col_type='Categorical'\n",
    ")"
   ]
  },
  {
   "cell_type": "code",
   "execution_count": null,
   "metadata": {},
   "outputs": [],
   "source": [
    "#Cleaning _ALTETH3 - Adults aged 65+ who have had all their natural teeth extracted\n",
    "clean_steps_ALTETH3 = [\n",
    "    (lambda x: x == 7, lambda x: np.nan, '7 Dont know / Not sure -> NA'),\n",
    "    (lambda x: x == 9, lambda x: np.nan, '9 Refused -> NA'),\n",
    "]\n",
    "clean_and_report(\n",
    "    df_ori, '_ALTETH3', clean_steps_ALTETH3, # (optional) col_type='Categorical'\n",
    ")"
   ]
  },
  {
   "cell_type": "code",
   "execution_count": null,
   "metadata": {},
   "outputs": [],
   "source": [
    "#Cleaning _DENVST3 - Adults that have visited a dentist, dental hygenist or dental clinic within the past year\n",
    "clean_steps_DENVST3 = [\n",
    "    (lambda x: x == 7, lambda x: np.nan, '7 Dont know / Not sure -> NA'),\n",
    "    (lambda x: x == 9, lambda x: np.nan, '9 Refused -> NA'),\n",
    "]\n",
    "clean_and_report(\n",
    "    df_ori, '_DENVST3', clean_steps_DENVST3, # (optional) col_type='Categorical'\n",
    ")"
   ]
  },
  {
   "cell_type": "code",
   "execution_count": null,
   "metadata": {},
   "outputs": [],
   "source": [
    "#Cleaning _PRACE1 - Computed Preferred Race\n",
    "clean_steps_PRACE1 = [\n",
    "    (lambda x: x == 77, lambda x: np.nan, '77 Dont know / Not sure -> NA'),\n",
    "    (lambda x: x == 99, lambda x: np.nan, '99 Refused -> NA'),\n",
    "]\n",
    "clean_and_report(\n",
    "    df_ori, '_PRACE1', clean_steps_PRACE1, # (optional) col_type='Categorical'\n",
    ")"
   ]
  },
  {
   "cell_type": "code",
   "execution_count": null,
   "metadata": {},
   "outputs": [],
   "source": []
  },
  {
   "cell_type": "code",
   "execution_count": null,
   "metadata": {},
   "outputs": [],
   "source": [
    "#Doesn't need cleaning\n",
    "\n",
    "#QSTVER - Questionnaire Version Identifier\n",
    "#QSTLANG - Language identifier\n",
    "#_METSTAT - Metropolitan Status\n",
    "#_URBSTAT - Urban/Rural Status\n",
    "#MSCODE - Metropolitan Status Code\n",
    "#_STSTR - Sample Design Stratification Variable\n",
    "#_STRWT - Stratum weight\n",
    "#_RAWRAKE - Raw weighting factor used in raking\n",
    "#_WT2RAKE - Design weight use in raking\n",
    "#_IMPRACE - Imputed race/ethnicity value\n",
    "#_CLLCPWT - Final child weight: Land-line and Cell-Phone data  (Raking derived weight)\n",
    "#_DUALUSE - Dual Phone Use Categories\n",
    "#_DUALCOR - Dual phone use correction factor\n",
    "#_LLCPWT2 - Truncated design weight used in adult combined land line and cell phone raking\n",
    "#_LLCPWT - Land-line and cell-phone data\n",
    "#_MICHD - Ever had CHD or MI\n",
    "#_DRDXAR1 - Respondents who have had a doctor diagnose them as having some form of arthritis"
   ]
  },
  {
   "cell_type": "code",
   "execution_count": null,
   "metadata": {},
   "outputs": [],
   "source": []
  },
  {
   "cell_type": "code",
   "execution_count": null,
   "metadata": {},
   "outputs": [],
   "source": []
  }
 ],
 "metadata": {
  "kernelspec": {
   "display_name": "Python 3",
   "language": "python",
   "name": "python3"
  },
  "language_info": {
   "codemirror_mode": {
    "name": "ipython",
    "version": 3
   },
   "file_extension": ".py",
   "mimetype": "text/x-python",
   "name": "python",
   "nbconvert_exporter": "python",
   "pygments_lexer": "ipython3",
   "version": "3.7.3"
  }
 },
 "nbformat": 4,
 "nbformat_minor": 2
}
